{
 "cells": [
  {
   "cell_type": "code",
   "execution_count": 80,
   "metadata": {},
   "outputs": [],
   "source": [
    "import numpy as np \n",
    "import pandas as pd \n",
    "from imblearn.over_sampling import SMOTE\n",
    "from sklearn.metrics import confusion_matrix\n",
    "import matplotlib.pyplot as plt\n",
    "from sklearn.model_selection import train_test_split\n",
    "from sklearn.preprocessing import LabelEncoder\n",
    "from pathlib import Path\n",
    "from matplotlib import pyplot as plt"
   ]
  },
  {
   "cell_type": "code",
   "execution_count": 81,
   "metadata": {},
   "outputs": [],
   "source": [
    "data = pd.read_csv('KDDTrain+.txt', header = None, names=['duration','protocol_type','service','flag','src_bytes','dst_bytes','land','wrong_fragment','urgent'\n",
    "            ,'hot','num_failed_logins','logged_in','num_compromised','root_shell','su_attempted','num_root'\n",
    "            ,'num_file_creations','num_shells','num_access_files','num_outbound_cmds','is_host_login'\n",
    "            ,'is_guest_login','count','srv_count','serror_rate','srv_serror_rate','rerror_rate','srv_rerror_rate'\n",
    "            ,'same_srv_rate','diff_srv_rate','srv_diff_host_rate','dst_host_count','dst_host_srv_count'\n",
    "            ,'dst_host_same_srv_rate','dst_host_diff_srv_rate','dst_host_same_src_port_rate'\n",
    "            ,'dst_host_srv_diff_host_rate','dst_host_serror_rate','dst_host_srv_serror_rate','dst_host_rerror_rate'\n",
    "            ,'dst_host_srv_rerror_rate','attack','outcome'])\n",
    "\n",
    "testpl = pd.read_csv('KDDTest+.txt',header = None,names=['duration','protocol_type','service','flag','src_bytes','dst_bytes','land','wrong_fragment','urgent'\n",
    "            ,'hot','num_failed_logins','logged_in','num_compromised','root_shell','su_attempted','num_root'\n",
    "            ,'num_file_creations','num_shells','num_access_files','num_outbound_cmds','is_host_login'\n",
    "            ,'is_guest_login','count','srv_count','serror_rate','srv_serror_rate','rerror_rate','srv_rerror_rate'\n",
    "            ,'same_srv_rate','diff_srv_rate','srv_diff_host_rate','dst_host_count','dst_host_srv_count'\n",
    "            ,'dst_host_same_srv_rate','dst_host_diff_srv_rate','dst_host_same_src_port_rate'\n",
    "            ,'dst_host_srv_diff_host_rate','dst_host_serror_rate','dst_host_srv_serror_rate','dst_host_rerror_rate'\n",
    "            ,'dst_host_srv_rerror_rate','attack','outcome'])"
   ]
  },
  {
   "cell_type": "code",
   "execution_count": 82,
   "metadata": {},
   "outputs": [],
   "source": [
    "data = pd.concat([data,testpl],axis=0)"
   ]
  },
  {
   "cell_type": "code",
   "execution_count": 83,
   "metadata": {},
   "outputs": [],
   "source": [
    "classlist = []\n",
    "\n",
    "check1 = (\"apache2\",\"back\",\"land\",\"neptune\",\"mailbomb\",\"pod\",\"processtable\",\"smurf\",\"teardrop\",\"udpstorm\",\"worm\")\n",
    "check2 = (\"ipsweep\",\"mscan\",\"nmap\",\"portsweep\",\"saint\",\"satan\")\n",
    "check3 = (\"buffer_overflow\",\"loadmodule\",\"perl\",\"ps\",\"rootkit\",\"sqlattack\",\"xterm\")\n",
    "check4 = (\"ftp_write\",\"guess_passwd\",\"httptunnel\",\"imap\",\"multihop\",\"named\",\"phf\",\"sendmail\",\"Snmpgetattack\",\"spy\",\"snmpguess\",\"warezclient\",\"warezmaster\",\"xlock\",\"xsnoop\")\n",
    "\n",
    "\n",
    "for item in data.pop('attack'):\n",
    "    if item in check1:\n",
    "        classlist.append(\"DoS\")\n",
    "    elif item in check2:\n",
    "        classlist.append(\"Probe\")\n",
    "    elif item in check3:\n",
    "        classlist.append(\"U2R\")\n",
    "    elif item in check4:\n",
    "        classlist.append(\"R2L\")\n",
    "    else:\n",
    "        classlist.append(\"Normal\")"
   ]
  },
  {
   "cell_type": "markdown",
   "metadata": {},
   "source": [
    "### Preprocessing\n"
   ]
  },
  {
   "cell_type": "code",
   "execution_count": 84,
   "metadata": {},
   "outputs": [
    {
     "name": "stdout",
     "output_type": "stream",
     "text": [
      "protocol_type 3\n",
      "['tcp' 'udp' 'tcp' ... 'tcp' 'udp' 'tcp']\n",
      "[1 2 1 ... 1 2 1]\n",
      "3\n",
      "service 70\n",
      "['ftp_data' 'other' 'private' ... 'http' 'domain_u' 'sunrpc']\n",
      "[20 44 49 ... 24 12 57]\n",
      "70\n",
      "flag 11\n",
      "['SF' 'SF' 'S0' ... 'SF' 'SF' 'REJ']\n",
      "[9 9 5 ... 9 9 1]\n",
      "11\n"
     ]
    }
   ],
   "source": [
    "#preprocessing\n",
    "#filling missing values and hot encoding\n",
    "nunique = data.nunique()\n",
    "types = data.dtypes\n",
    "categorical_columns = []\n",
    "categorical_dims =  {}\n",
    "for col in data.columns:\n",
    "    if types[col] == 'object':\n",
    "        print(col, data[col].nunique())\n",
    "        l_enc = LabelEncoder()\n",
    "        print(data[col].values)\n",
    "        data[col] = l_enc.fit_transform(data[col].values)\n",
    "        print(data[col].values)\n",
    "        categorical_columns.append(col)\n",
    "        print(len(l_enc.classes_))\n",
    "        categorical_dims[col] = len(l_enc.classes_)\n",
    "    else:\n",
    "        data.fillna(data[col].mean(), inplace=True)     #replacing the null values by mean\n",
    "\n",
    "unused_feat = ['Set']\n",
    "\n",
    "features = [ col for col in data.columns if col not in unused_feat ]\n",
    "\n",
    "\n",
    "cat_idxs = [ i for i, f in enumerate(features) if f in categorical_columns]\n",
    "\n",
    "\n",
    "cat_dims = [ categorical_dims[f] for i, f in enumerate(features) if f in categorical_columns]\n",
    "\n"
   ]
  },
  {
   "cell_type": "code",
   "execution_count": 85,
   "metadata": {},
   "outputs": [],
   "source": [
    "# Z score Normalization\n",
    "def normalize(df, cols):\n",
    "    result = df.copy() \n",
    "    for feature_name in cols:\n",
    "        maxi = df[feature_name].max()\n",
    "        mini = df[feature_name].min()\n",
    "        if(maxi>mini):\n",
    "            result[feature_name] = (df[feature_name] - mini) / (maxi-mini)\n",
    "    return result"
   ]
  },
  {
   "cell_type": "code",
   "execution_count": 86,
   "metadata": {},
   "outputs": [
    {
     "name": "stdout",
     "output_type": "stream",
     "text": [
      "0        0\n",
      "1        0\n",
      "2        0\n",
      "3        0\n",
      "4        0\n",
      "        ..\n",
      "22539    0\n",
      "22540    0\n",
      "22541    0\n",
      "22542    0\n",
      "22543    0\n",
      "Name: num_outbound_cmds, Length: 148517, dtype: int64\n"
     ]
    }
   ],
   "source": [
    "data = normalize(data,data.columns)\n",
    "print(data['num_outbound_cmds'])\n",
    "data.drop(columns=['num_outbound_cmds'], inplace=True)  "
   ]
  },
  {
   "cell_type": "code",
   "execution_count": 87,
   "metadata": {},
   "outputs": [
    {
     "name": "stdout",
     "output_type": "stream",
     "text": [
      "148517\n",
      "[1 1 0 ... 0 1 2]\n"
     ]
    }
   ],
   "source": [
    "l_enc = LabelEncoder()\n",
    "print(len(classlist))\n",
    "enc_classlist = l_enc.fit_transform(classlist)\n",
    "print(enc_classlist)"
   ]
  },
  {
   "cell_type": "code",
   "execution_count": 88,
   "metadata": {},
   "outputs": [
    {
     "name": "stdout",
     "output_type": "stream",
     "text": [
      "[[0.         0.5        0.28985507 ... 0.         0.         0.95238095]\n",
      " [0.         1.         0.63768116 ... 0.         0.         0.71428571]\n",
      " [0.         0.5        0.71014493 ... 1.         1.         0.9047619 ]\n",
      " ...\n",
      " [0.         0.5        0.34782609 ... 0.         0.         0.71428571]\n",
      " [0.         1.         0.17391304 ... 0.         0.         1.        ]\n",
      " [0.         0.5        0.82608696 ... 0.         0.         0.66666667]]\n"
     ]
    }
   ],
   "source": [
    "#Feature Selection\n",
    "import math\n",
    "from sklearn.feature_selection import SelectKBest\n",
    "from sklearn.feature_selection import f_regression\n",
    "from sklearn.feature_selection import chi2\n",
    "skb = SelectKBest(score_func= f_regression, k=27)\n",
    "\n",
    "            \n",
    "X_new = skb.fit_transform(data, enc_classlist)\n",
    "print(X_new)\n",
    "featurelist=[]\n",
    "for i, score in enumerate(skb.scores_):\n",
    "    featurelist.append([features[i],score])"
   ]
  },
  {
   "cell_type": "code",
   "execution_count": 89,
   "metadata": {},
   "outputs": [
    {
     "name": "stdout",
     "output_type": "stream",
     "text": [
      "[['dst_host_serror_rate', 82081.97099106226], ['srv_count', 80997.32211012328], ['serror_rate', 80983.88619376504], ['dst_host_srv_diff_host_rate', 80874.81951640469], ['srv_rerror_rate', 68167.26497109502], ['is_guest_login', 34587.578283646435], ['dst_host_srv_count', 27483.347555715904], ['flag', 24823.601234178277], ['srv_diff_host_rate', 24352.699774648932], ['dst_host_diff_srv_rate', 23229.468206793932], ['dst_host_srv_rerror_rate', 18542.818759717036], ['dst_host_same_src_port_rate', 15420.311991145667], ['logged_in', 14304.16394104932], ['dst_host_count', 11819.617110977842], ['diff_srv_rate', 10959.294436364933], ['dst_host_same_srv_rate', 10342.387175858163], ['is_host_login', 5430.285084992203], ['same_srv_rate', 4219.046154237422], ['num_failed_logins', 3767.350737581703], ['service', 2126.717256606255], ['duration', 2044.2791874129769], ['hot', 1699.3833504541178], ['count', 1261.5053135238184], ['wrong_fragment', 1180.5431314778507], ['protocol_type', 529.279580542478], ['root_shell', 498.9841768648808], ['num_shells', 243.50641105601912], ['urgent', 134.75713012260985], ['num_outbound_cmds', 131.74458895801118], ['dst_host_rerror_rate', 74.64823562714628], ['num_access_files', 63.80789096675956], ['rerror_rate', 41.341921381096505], ['srv_serror_rate', 38.4012278555253], ['num_file_creations', 35.39857865665429], ['dst_host_srv_serror_rate', 25.411587206814346], ['land', 20.07081910823968], ['src_bytes', 19.391815139690582], ['su_attempted', 8.795466930019852], ['dst_bytes', 7.506327659579001], ['num_root', 2.9186051858363484], ['num_compromised', 2.0499897592389416]]\n"
     ]
    }
   ],
   "source": [
    "featurelist=sorted(featurelist,key=lambda x:x[1],reverse=True)\n",
    "print(featurelist)\n"
   ]
  },
  {
   "cell_type": "code",
   "execution_count": 90,
   "metadata": {},
   "outputs": [
    {
     "name": "stdout",
     "output_type": "stream",
     "text": [
      "[['dst_host_serror_rate', 59993.634955196045], ['serror_rate', 58859.92708715819], ['srv_count', 58481.77665089952], ['dst_host_srv_diff_host_rate', 57928.29961338039], ['logged_in', 41801.90438882726], ['dst_host_count', 29517.569503770006], ['dst_host_srv_count', 27444.825295152546], ['srv_rerror_rate', 26722.42639855701], ['dst_host_diff_srv_rate', 22875.33361372113], ['dst_host_same_srv_rate', 19840.456085446865], ['rerror_rate', 18040.048711369473], ['srv_serror_rate', 18010.372862067394], ['dst_host_rerror_rate', 17918.61297178593], ['is_host_login', 17230.419639895583], ['is_guest_login', 17148.318307171132], ['root_shell', 16269.379971739685], ['same_srv_rate', 15118.975337927584], ['dst_host_srv_serror_rate', 14694.858148676924], ['diff_srv_rate', 12237.246097833824], ['dst_host_same_src_port_rate', 10130.27939408266], ['flag', 7371.135177834089], ['srv_diff_host_rate', 6738.856166018693], ['urgent', 3549.254942613723], ['num_failed_logins', 3394.9941652599946], ['num_shells', 2690.5626948963113], ['duration', 2036.6538109300734], ['num_outbound_cmds', 1816.0316198221067], ['service', 1617.8802066987835], ['wrong_fragment', 1584.8943758593457], ['hot', 1159.833716490004], ['protocol_type', 1084.5870502679493], ['dst_host_srv_rerror_rate', 1027.8229451024076], ['count', 611.3737624833173], ['num_file_creations', 107.21303895516674], ['num_access_files', 84.0160871942366], ['su_attempted', 63.6512523033279], ['land', 25.2784673951925], ['src_bytes', 22.783476324879818], ['dst_bytes', 12.34807342748425], ['num_root', 5.9935524314796815], ['num_compromised', 5.202329664921171]]\n"
     ]
    }
   ],
   "source": [
    "skb = SelectKBest(score_func= chi2, k=27)\n",
    "\n",
    "            \n",
    "X_new_chi2 = skb.fit_transform(data, enc_classlist)\n",
    "featurelist_chi2=[]\n",
    "for i, score in enumerate(skb.scores_):\n",
    "    featurelist_chi2.append([features[i],score])\n",
    "featurelist_chi2=sorted(featurelist_chi2,key=lambda x:x[1],reverse=True)\n",
    "print(featurelist_chi2)"
   ]
  },
  {
   "cell_type": "code",
   "execution_count": 91,
   "metadata": {},
   "outputs": [
    {
     "name": "stdout",
     "output_type": "stream",
     "text": [
      "(148517, 23)\n"
     ]
    }
   ],
   "source": [
    "# feature selection using ensemble method\n",
    "from sklearn.decomposition import PCA\n",
    "from sklearn.feature_selection import SelectKBest, f_classif, f_regression\n",
    "from sklearn.pipeline import Pipeline\n",
    "\n",
    "pipe = Pipeline([('anova', SelectKBest(f_classif, k=23)),\n",
    "                 ('reduce_dim', PCA(n_components=23)),\n",
    "                 ('select_features', SelectKBest(f_regression, k=23))\n",
    "                 ])\n",
    "data_new=pipe.fit_transform(data, enc_classlist)\n",
    "print(data_new.shape)"
   ]
  },
  {
   "cell_type": "code",
   "execution_count": 92,
   "metadata": {},
   "outputs": [
    {
     "data": {
      "image/png": "[encoded data removed]",
      "text/plain": [
       "<Figure size 720x720 with 2 Axes>"
      ]
     },
     "metadata": {
      "needs_background": "light"
     },
     "output_type": "display_data"
    }
   ],
   "source": [
    "\n",
    "import matplotlib.pyplot as plt\n",
    "import numpy as np\n",
    "\n",
    "# Assuming 'featurelist' and 'featurelist_chi2' are your sorted feature importance lists\n",
    "f_regression_features = [i[0] for i in featurelist]\n",
    "f_regression_scores = [i[1] for i in featurelist]\n",
    "\n",
    "chi2_features = [i[0] for i in featurelist_chi2]\n",
    "chi2_scores = [i[1] for i in featurelist_chi2]\n",
    "\n",
    "# Create the figure and the axes\n",
    "fig, axs = plt.subplots(nrows=2, ncols=1, figsize=(10,10))\n",
    "\n",
    "# On the first axis, plot the f_regression scores\n",
    "axs[0].bar(f_regression_features, f_regression_scores)\n",
    "axs[0].set_title('Feature importance according to f_regression')\n",
    "axs[0].set_ylabel('Importance')\n",
    "axs[0].set_xlabel('Features')\n",
    "plt.setp(axs[0].xaxis.get_majorticklabels(), rotation=45)\n",
    "\n",
    "# On the second axis, plot the chi2 scores\n",
    "axs[1].bar(chi2_features, chi2_scores)\n",
    "axs[1].set_title('Feature importance according to chi2')\n",
    "axs[1].set_ylabel('Importance')\n",
    "axs[1].set_xlabel('Features')\n",
    "plt.setp(axs[1].xaxis.get_majorticklabels(), rotation=45)\n",
    "\n",
    "# Display the plot\n",
    "plt.tight_layout()\n",
    "plt.show()\n",
    "\n"
   ]
  },
  {
   "cell_type": "code",
   "execution_count": 93,
   "metadata": {},
   "outputs": [],
   "source": [
    "X_train,X_test, y_train,y_test = train_test_split(data_new,np.array(classlist),test_size=0.3,random_state=14)"
   ]
  },
  {
   "cell_type": "code",
   "execution_count": 94,
   "metadata": {},
   "outputs": [
    {
     "data": {
      "text/plain": [
       "(array(['DoS', 'Normal', 'Probe', 'R2L', 'U2R'], dtype='<U6'),\n",
       " array([37255, 54174,  9905,  2555,    72], dtype=int64))"
      ]
     },
     "execution_count": 94,
     "metadata": {},
     "output_type": "execute_result"
    }
   ],
   "source": [
    "np.unique(y_train, return_counts=True)"
   ]
  },
  {
   "cell_type": "code",
   "execution_count": 95,
   "metadata": {},
   "outputs": [
    {
     "data": {
      "image/png": "[encoded data removed]",
      "text/plain": [
       "<Figure size 432x288 with 1 Axes>"
      ]
     },
     "metadata": {
      "needs_background": "light"
     },
     "output_type": "display_data"
    }
   ],
   "source": [
    "unique_values, counts = np.unique(y_train, return_counts=True)\n",
    "\n",
    "# Plot the bar graph\n",
    "plt.bar(unique_values, counts, color='blue')\n",
    "plt.title('Bar Plot of y_train')\n",
    "plt.xlabel('Unique Values')\n",
    "plt.ylabel('Counts')\n",
    "plt.show()"
   ]
  },
  {
   "cell_type": "markdown",
   "metadata": {},
   "source": [
    "### All The Code Without SMOTE AND GAN"
   ]
  },
  {
   "cell_type": "code",
   "execution_count": 96,
   "metadata": {},
   "outputs": [
    {
     "name": "stdout",
     "output_type": "stream",
     "text": [
      "Decision Tree Classifier\n",
      "The Accuracy is:\n",
      "0.9915162941018044\n",
      "              precision    recall  f1-score   support\n",
      "\n",
      "         DoS       1.00      1.00      1.00     16132\n",
      "      Normal       1.00      0.99      0.99     23058\n",
      "       Probe       0.98      0.98      0.98      4172\n",
      "         R2L       0.92      0.93      0.92      1147\n",
      "         U2R       0.70      0.66      0.68        47\n",
      "\n",
      "    accuracy                           0.99     44556\n",
      "   macro avg       0.92      0.91      0.91     44556\n",
      "weighted avg       0.99      0.99      0.99     44556\n",
      "\n"
     ]
    }
   ],
   "source": [
    "\n",
    "#Decision Tree Classifier\n",
    "print(\"Decision Tree Classifier\")\n",
    "from sklearn.tree import DecisionTreeClassifier\n",
    "from sklearn.metrics import accuracy_score\n",
    "from sklearn.metrics import classification_report\n",
    "dtree = DecisionTreeClassifier();\n",
    "dtree = dtree.fit(X_train,y_train)\n",
    "pred = dtree.predict(X_test)\n",
    "print(\"The Accuracy is:\")\n",
    "print(accuracy_score(pred,y_test))\n",
    "print(classification_report(y_test, pred))\n"
   ]
  },
  {
   "cell_type": "code",
   "execution_count": 97,
   "metadata": {},
   "outputs": [
    {
     "name": "stdout",
     "output_type": "stream",
     "text": [
      "Random Forest Classifier\n",
      "The Accuracy is:\n",
      "0.9958479217164916\n",
      "              precision    recall  f1-score   support\n",
      "\n",
      "         DoS       1.00      1.00      1.00     16132\n",
      "      Normal       1.00      1.00      1.00     23058\n",
      "       Probe       0.99      0.99      0.99      4172\n",
      "         R2L       0.96      0.95      0.95      1147\n",
      "         U2R       0.82      0.57      0.68        47\n",
      "\n",
      "    accuracy                           1.00     44556\n",
      "   macro avg       0.95      0.90      0.92     44556\n",
      "weighted avg       1.00      1.00      1.00     44556\n",
      "\n"
     ]
    }
   ],
   "source": [
    "#Random Forest Classifier\n",
    "print(\"Random Forest Classifier\")\n",
    "from sklearn.ensemble import RandomForestClassifier\n",
    "rfc = RandomForestClassifier(n_estimators=400, random_state=42)\n",
    "rfc = rfc.fit(X_train,y_train)\n",
    "pred = rfc.predict(X_test)\n",
    "from sklearn.metrics import classification_report\n",
    "print(\"The Accuracy is:\")\n",
    "print(rfc.score(X_test,y_test))\n",
    "print(classification_report(y_test, pred))"
   ]
  },
  {
   "cell_type": "code",
   "execution_count": 98,
   "metadata": {},
   "outputs": [
    {
     "name": "stdout",
     "output_type": "stream",
     "text": [
      "Logistic Regression model\n"
     ]
    },
    {
     "name": "stderr",
     "output_type": "stream",
     "text": [
      "c:\\Users\\91797\\anaconda3\\lib\\site-packages\\sklearn\\linear_model\\_logistic.py:444: ConvergenceWarning: lbfgs failed to converge (status=1):\n",
      "STOP: TOTAL NO. of ITERATIONS REACHED LIMIT.\n",
      "\n",
      "Increase the number of iterations (max_iter) or scale the data as shown in:\n",
      "    https://scikit-learn.org/stable/modules/preprocessing.html\n",
      "Please also refer to the documentation for alternative solver options:\n",
      "    https://scikit-learn.org/stable/modules/linear_model.html#logistic-regression\n",
      "  n_iter_i = _check_optimize_result(\n"
     ]
    },
    {
     "name": "stdout",
     "output_type": "stream",
     "text": [
      "The Accuracy is:\n",
      "0.9325118951431906\n",
      "              precision    recall  f1-score   support\n",
      "\n",
      "         DoS       0.95      0.93      0.94     16132\n",
      "      Normal       0.94      0.96      0.95     23058\n",
      "       Probe       0.89      0.88      0.88      4172\n",
      "         R2L       0.61      0.57      0.59      1147\n",
      "         U2R       0.84      0.45      0.58        47\n",
      "\n",
      "    accuracy                           0.93     44556\n",
      "   macro avg       0.85      0.76      0.79     44556\n",
      "weighted avg       0.93      0.93      0.93     44556\n",
      "\n"
     ]
    }
   ],
   "source": [
    "from sklearn.linear_model import LogisticRegression\n",
    "\n",
    "\n",
    "print(\"Logistic Regression model\")\n",
    "logreg = LogisticRegression()\n",
    "logreg.fit(X_train, y_train)\n",
    "y_pred = logreg.predict(X_test)\n",
    "\n",
    "print(\"The Accuracy is:\")\n",
    "accuracy = accuracy_score(y_test, y_pred)\n",
    "print(accuracy)\n",
    "print(classification_report(y_test,y_pred))\n"
   ]
  },
  {
   "cell_type": "code",
   "execution_count": 99,
   "metadata": {},
   "outputs": [
    {
     "name": "stdout",
     "output_type": "stream",
     "text": [
      "SVM model\n",
      "The Accuracy is:\n",
      "0.9844016518538469\n",
      "              precision    recall  f1-score   support\n",
      "\n",
      "         DoS       0.98      1.00      0.99     16132\n",
      "      Normal       1.00      0.98      0.99     23058\n",
      "       Probe       0.97      0.97      0.97      4172\n",
      "         R2L       0.81      0.92      0.86      1147\n",
      "         U2R       0.87      0.43      0.57        47\n",
      "\n",
      "    accuracy                           0.98     44556\n",
      "   macro avg       0.93      0.86      0.88     44556\n",
      "weighted avg       0.98      0.98      0.98     44556\n",
      "\n"
     ]
    }
   ],
   "source": [
    "from sklearn.svm import SVC\n",
    "\n",
    "# Create an SVM model\n",
    "\n",
    "print(\"SVM model\")\n",
    "svm = SVC()\n",
    "\n",
    "svm.fit(X_train, y_train)\n",
    "\n",
    "\n",
    "y_pred = svm.predict(X_test)\n",
    "\n",
    "\n",
    "print(\"The Accuracy is:\")\n",
    "accuracy = accuracy_score(y_test, y_pred)\n",
    "print(accuracy)\n",
    "print(classification_report(y_test, y_pred));"
   ]
  },
  {
   "cell_type": "code",
   "execution_count": 100,
   "metadata": {},
   "outputs": [
    {
     "name": "stdout",
     "output_type": "stream",
     "text": [
      "GBM model:\n",
      "0.9852545111769458\n",
      "              precision    recall  f1-score   support\n",
      "\n",
      "         DoS       0.99      0.99      0.99     16132\n",
      "      Normal       0.99      0.99      0.99     23058\n",
      "       Probe       0.96      0.97      0.96      4172\n",
      "         R2L       0.87      0.88      0.87      1147\n",
      "         U2R       0.62      0.11      0.18        47\n",
      "\n",
      "    accuracy                           0.99     44556\n",
      "   macro avg       0.89      0.79      0.80     44556\n",
      "weighted avg       0.99      0.99      0.98     44556\n",
      "\n"
     ]
    }
   ],
   "source": [
    "from sklearn.ensemble import GradientBoostingClassifier\n",
    "\n",
    "# Create a GBM model\n",
    "\n",
    "print(\"GBM model:\")\n",
    "gbm = GradientBoostingClassifier()\n",
    "\n",
    "\n",
    "gbm.fit(X_train, y_train)\n",
    "\n",
    "# Predict on test data\n",
    "y_pred = gbm.predict(X_test)\n",
    "\n",
    "# Evaluate the model\n",
    "accuracy = accuracy_score(y_test, y_pred)\n",
    "\n",
    "print(accuracy)\n",
    "print(classification_report(y_test, y_pred));"
   ]
  },
  {
   "cell_type": "code",
   "execution_count": 101,
   "metadata": {},
   "outputs": [
    {
     "name": "stdout",
     "output_type": "stream",
     "text": [
      "KNN model:\n",
      "0.9937606607415388\n",
      "              precision    recall  f1-score   support\n",
      "\n",
      "         DoS       1.00      1.00      1.00     16132\n",
      "      Normal       1.00      1.00      1.00     23058\n",
      "       Probe       0.99      0.99      0.99      4172\n",
      "         R2L       0.92      0.95      0.93      1147\n",
      "         U2R       0.88      0.47      0.61        47\n",
      "\n",
      "    accuracy                           0.99     44556\n",
      "   macro avg       0.96      0.88      0.91     44556\n",
      "weighted avg       0.99      0.99      0.99     44556\n",
      "\n"
     ]
    }
   ],
   "source": [
    "from sklearn.neighbors import KNeighborsClassifier\n",
    "\n",
    "# Create a KNN model\n",
    "\n",
    "print(\"KNN model:\")\n",
    "knn = KNeighborsClassifier(n_neighbors=5)\n",
    "\n",
    "# Fit the model to the training data\n",
    "knn.fit(X_train, y_train)\n",
    "\n",
    "# Predict on test data\n",
    "y_pred = knn.predict(X_test)\n",
    "\n",
    "# Evaluate the model\n",
    "accuracy = accuracy_score(y_test, y_pred)\n",
    "print(accuracy)\n",
    "print(classification_report(y_test, y_pred));"
   ]
  },
  {
   "cell_type": "code",
   "execution_count": 102,
   "metadata": {},
   "outputs": [
    {
     "name": "stdout",
     "output_type": "stream",
     "text": [
      "Naive Bayes model:\n",
      "0.7908250291767663\n",
      "              precision    recall  f1-score   support\n",
      "\n",
      "         DoS       0.88      0.84      0.86     16132\n",
      "      Normal       0.88      0.79      0.83     23058\n",
      "       Probe       0.44      0.68      0.53      4172\n",
      "         R2L       0.41      0.60      0.49      1147\n",
      "         U2R       0.05      0.53      0.10        47\n",
      "\n",
      "    accuracy                           0.79     44556\n",
      "   macro avg       0.53      0.69      0.56     44556\n",
      "weighted avg       0.83      0.79      0.80     44556\n",
      "\n"
     ]
    }
   ],
   "source": [
    "from sklearn.naive_bayes import GaussianNB\n",
    "\n",
    "# Create a Naive Bayes model\n",
    "print(\"Naive Bayes model:\")\n",
    "nb = GaussianNB()\n",
    "\n",
    "# Fit the model to the training data\n",
    "nb.fit(X_train, y_train)\n",
    "\n",
    "# Predict on test data\n",
    "y_pred = nb.predict(X_test)\n",
    "\n",
    "# Evaluate the model\n",
    "accuracy = accuracy_score(y_test, y_pred)\n",
    "print(accuracy)\n",
    "print(classification_report(y_test, y_pred));"
   ]
  },
  {
   "cell_type": "code",
   "execution_count": 103,
   "metadata": {},
   "outputs": [
    {
     "name": "stdout",
     "output_type": "stream",
     "text": [
      "Bagging model\n",
      "0.9940524284047042\n",
      "              precision    recall  f1-score   support\n",
      "\n",
      "         DoS       1.00      1.00      1.00     16132\n",
      "      Normal       1.00      1.00      1.00     23058\n",
      "       Probe       0.99      0.98      0.99      4172\n",
      "         R2L       0.94      0.95      0.94      1147\n",
      "         U2R       0.79      0.47      0.59        47\n",
      "\n",
      "    accuracy                           0.99     44556\n",
      "   macro avg       0.94      0.88      0.90     44556\n",
      "weighted avg       0.99      0.99      0.99     44556\n",
      "\n"
     ]
    }
   ],
   "source": [
    "from sklearn.ensemble import BaggingClassifier\n",
    "from sklearn.tree import DecisionTreeClassifier\n",
    "\n",
    "# Create a base estimator (Decision Tree)\n",
    "base_estimator = DecisionTreeClassifier()\n",
    "\n",
    "# Create a Bagging model\n",
    "print(\"Bagging model\")\n",
    "bagging = BaggingClassifier(base_estimator=base_estimator)\n",
    "\n",
    "# Fit the model to the training data\n",
    "bagging.fit(X_train, y_train)\n",
    "\n",
    "# Predict on test data\n",
    "y_pred = bagging.predict(X_test)\n",
    "\n",
    "# Evaluate the model\n",
    "accuracy = accuracy_score(y_test, y_pred)\n",
    "print(accuracy)\n",
    "print(classification_report(y_test, y_pred));\n"
   ]
  },
  {
   "cell_type": "code",
   "execution_count": 104,
   "metadata": {},
   "outputs": [
    {
     "name": "stdout",
     "output_type": "stream",
     "text": [
      "Extra trees Model\n",
      "0.9961845767124518\n",
      "              precision    recall  f1-score   support\n",
      "\n",
      "         DoS       1.00      1.00      1.00     16132\n",
      "      Normal       1.00      1.00      1.00     23058\n",
      "       Probe       0.99      0.99      0.99      4172\n",
      "         R2L       0.96      0.96      0.96      1147\n",
      "         U2R       0.83      0.64      0.72        47\n",
      "\n",
      "    accuracy                           1.00     44556\n",
      "   macro avg       0.96      0.92      0.93     44556\n",
      "weighted avg       1.00      1.00      1.00     44556\n",
      "\n"
     ]
    }
   ],
   "source": [
    "from sklearn.ensemble import ExtraTreesClassifier\n",
    "\n",
    "# Create an Extra Trees model\n",
    "print(\"Extra trees Model\")\n",
    "et = ExtraTreesClassifier()\n",
    "\n",
    "# Fit the model to the training data\n",
    "et.fit(X_train, y_train)\n",
    "\n",
    "# Predict on test data\n",
    "y_pred = et.predict(X_test)\n",
    "\n",
    "# Evaluate the model\n",
    "accuracy = accuracy_score(y_test, y_pred)\n",
    "print(accuracy)\n",
    "print(classification_report(y_test, y_pred));"
   ]
  },
  {
   "cell_type": "code",
   "execution_count": 105,
   "metadata": {},
   "outputs": [
    {
     "name": "stdout",
     "output_type": "stream",
     "text": [
      " MLP Classifier\n",
      "0.9934240057455787\n",
      "              precision    recall  f1-score   support\n",
      "\n",
      "         DoS       1.00      1.00      1.00     16132\n",
      "      Normal       1.00      1.00      1.00     23058\n",
      "       Probe       0.98      0.99      0.98      4172\n",
      "         R2L       0.92      0.92      0.92      1147\n",
      "         U2R       0.72      0.55      0.63        47\n",
      "\n",
      "    accuracy                           0.99     44556\n",
      "   macro avg       0.92      0.89      0.91     44556\n",
      "weighted avg       0.99      0.99      0.99     44556\n",
      "\n"
     ]
    }
   ],
   "source": [
    "from sklearn.neural_network import MLPClassifier\n",
    "\n",
    "# Create an MLP model\n",
    "mlp = MLPClassifier()\n",
    "print(\" MLP Classifier\")\n",
    "# Fit the model to the training data\n",
    "mlp.fit(X_train, y_train)\n",
    "\n",
    "# Predict on test data\n",
    "y_pred = mlp.predict(X_test)\n",
    "\n",
    "# Evaluate the model\n",
    "accuracy = accuracy_score(y_test, y_pred)\n",
    "print(accuracy)\n",
    "print(classification_report(y_test, y_pred));\n"
   ]
  },
  {
   "cell_type": "code",
   "execution_count": 106,
   "metadata": {},
   "outputs": [
    {
     "name": "stdout",
     "output_type": "stream",
     "text": [
      "Base Estimators Using DT,SVM\n"
     ]
    },
    {
     "name": "stderr",
     "output_type": "stream",
     "text": [
      "c:\\Users\\91797\\anaconda3\\lib\\site-packages\\sklearn\\linear_model\\_logistic.py:444: ConvergenceWarning: lbfgs failed to converge (status=1):\n",
      "STOP: TOTAL NO. of ITERATIONS REACHED LIMIT.\n",
      "\n",
      "Increase the number of iterations (max_iter) or scale the data as shown in:\n",
      "    https://scikit-learn.org/stable/modules/preprocessing.html\n",
      "Please also refer to the documentation for alternative solver options:\n",
      "    https://scikit-learn.org/stable/modules/linear_model.html#logistic-regression\n",
      "  n_iter_i = _check_optimize_result(\n"
     ]
    },
    {
     "name": "stdout",
     "output_type": "stream",
     "text": [
      "0.9918080617649699\n",
      "              precision    recall  f1-score   support\n",
      "\n",
      "         DoS       1.00      1.00      1.00     16132\n",
      "      Normal       1.00      1.00      1.00     23058\n",
      "       Probe       0.98      0.98      0.98      4172\n",
      "         R2L       0.92      0.91      0.91      1147\n",
      "         U2R       0.73      0.47      0.57        47\n",
      "\n",
      "    accuracy                           0.99     44556\n",
      "   macro avg       0.92      0.87      0.89     44556\n",
      "weighted avg       0.99      0.99      0.99     44556\n",
      "\n"
     ]
    }
   ],
   "source": [
    "from sklearn.linear_model import LogisticRegression\n",
    "from sklearn.ensemble import StackingClassifier\n",
    "from sklearn.tree import DecisionTreeClassifier\n",
    "from sklearn.svm import SVC\n",
    "\n",
    "# Create base estimators (Decision Tree, SVM)\n",
    "print(\"Base Estimators Using DT,SVM\")\n",
    "base_estimators = [\n",
    "    ('dt', DecisionTreeClassifier()),\n",
    "    ('svm', SVC())\n",
    "]\n",
    "\n",
    "# Create a meta-classifier (Logistic Regression)\n",
    "meta_classifier = LogisticRegression()\n",
    "\n",
    "# Create a Stacking model\n",
    "stacking = StackingClassifier(estimators=base_estimators, final_estimator=meta_classifier)\n",
    "\n",
    "# Fit the model to the training data\n",
    "stacking.fit(X_train, y_train)\n",
    "\n",
    "# Predict on test data\n",
    "y_pred = stacking.predict(X_test)\n",
    "\n",
    "# Evaluate the model\n",
    "accuracy = accuracy_score(y_test, y_pred)\n",
    "print(accuracy)\n",
    "print(classification_report(y_test, y_pred));"
   ]
  },
  {
   "cell_type": "code",
   "execution_count": 107,
   "metadata": {},
   "outputs": [
    {
     "name": "stdout",
     "output_type": "stream",
     "text": [
      "              precision    recall  f1-score   support\n",
      "\n",
      "         DoS       1.00      1.00      1.00     16132\n",
      "      Normal       1.00      1.00      1.00     23058\n",
      "       Probe       0.99      0.99      0.99      4172\n",
      "         R2L       0.93      0.96      0.95      1147\n",
      "         U2R       0.88      0.45      0.59        47\n",
      "\n",
      "    accuracy                           0.99     44556\n",
      "   macro avg       0.96      0.88      0.90     44556\n",
      "weighted avg       0.99      0.99      0.99     44556\n",
      "\n",
      "The Accuracy is:\n",
      "0.9949950623933926\n"
     ]
    }
   ],
   "source": [
    "\n",
    "from sklearn.ensemble import VotingClassifier\n",
    "ensemble = VotingClassifier(estimators=[('knn', knn),('et',et),('svm',svm)], voting='hard')\n",
    "ensemble.fit(X_train, y_train)\n",
    "pred = ensemble.predict(X_test)\n",
    "from sklearn.metrics import classification_report\n",
    "print(classification_report(y_test, pred))\n",
    "print(\"The Accuracy is:\")\n",
    "print(ensemble.score(X_test,y_test))"
   ]
  },
  {
   "cell_type": "markdown",
   "metadata": {},
   "source": [
    "### All code using SMOTE"
   ]
  },
  {
   "cell_type": "code",
   "execution_count": 108,
   "metadata": {},
   "outputs": [],
   "source": [
    "smote = SMOTE(sampling_strategy={'R2L': 10000,'U2R':10000}, k_neighbors=4, random_state=42)\n",
    "\n",
    "# Perform oversampling using SMOTE\n",
    "X_resampled, y_resampled = smote.fit_resample(X_train, y_train)"
   ]
  },
  {
   "cell_type": "code",
   "execution_count": 109,
   "metadata": {},
   "outputs": [
    {
     "data": {
      "image/png": "[encoded data removed]",
      "text/plain": [
       "<Figure size 432x288 with 1 Axes>"
      ]
     },
     "metadata": {
      "needs_background": "light"
     },
     "output_type": "display_data"
    }
   ],
   "source": [
    "unique_values, counts = np.unique(y_resampled, return_counts=True)\n",
    "\n",
    "# Plot the bar graph\n",
    "plt.bar(unique_values, counts, color='blue')\n",
    "plt.title('Bar Plot of y_train')\n",
    "plt.xlabel('Unique Values')\n",
    "plt.ylabel('Counts')\n",
    "plt.show()  "
   ]
  },
  {
   "cell_type": "code",
   "execution_count": 110,
   "metadata": {},
   "outputs": [
    {
     "name": "stdout",
     "output_type": "stream",
     "text": [
      "Decision Tree Classifier\n",
      "The Accuracy is:\n",
      "0.991157195439447\n",
      "              precision    recall  f1-score   support\n",
      "\n",
      "         DoS       0.99      1.00      1.00     16132\n",
      "      Normal       0.99      0.99      0.99     23058\n",
      "       Probe       0.98      0.98      0.98      4172\n",
      "         R2L       0.93      0.92      0.93      1147\n",
      "         U2R       0.60      0.60      0.60        47\n",
      "\n",
      "    accuracy                           0.99     44556\n",
      "   macro avg       0.90      0.90      0.90     44556\n",
      "weighted avg       0.99      0.99      0.99     44556\n",
      "\n"
     ]
    }
   ],
   "source": [
    "\n",
    "#Decision Tree Classifier\n",
    "print(\"Decision Tree Classifier\")\n",
    "from sklearn.tree import DecisionTreeClassifier\n",
    "from sklearn.metrics import accuracy_score\n",
    "from sklearn.metrics import classification_report\n",
    "dtree = DecisionTreeClassifier();\n",
    "dtree = dtree.fit(X_resampled, y_resampled)\n",
    "pred = dtree.predict(X_test)\n",
    "print(\"The Accuracy is:\")\n",
    "print(accuracy_score(pred,y_test))\n",
    "print(classification_report(y_test, pred))"
   ]
  },
  {
   "cell_type": "code",
   "execution_count": 111,
   "metadata": {},
   "outputs": [
    {
     "name": "stdout",
     "output_type": "stream",
     "text": [
      "Random Forest Classifier\n",
      "The Accuracy is:\n",
      "0.995937696382081\n",
      "              precision    recall  f1-score   support\n",
      "\n",
      "         DoS       1.00      1.00      1.00     16132\n",
      "      Normal       1.00      1.00      1.00     23058\n",
      "       Probe       0.99      0.99      0.99      4172\n",
      "         R2L       0.95      0.96      0.95      1147\n",
      "         U2R       0.69      0.74      0.71        47\n",
      "\n",
      "    accuracy                           1.00     44556\n",
      "   macro avg       0.92      0.94      0.93     44556\n",
      "weighted avg       1.00      1.00      1.00     44556\n",
      "\n"
     ]
    }
   ],
   "source": [
    "#Random Forest Classifier\n",
    "print(\"Random Forest Classifier\")\n",
    "from sklearn.ensemble import RandomForestClassifier\n",
    "rfc = RandomForestClassifier(n_estimators=400, random_state=42)\n",
    "rfc = rfc.fit(X_resampled, y_resampled)\n",
    "pred = rfc.predict(X_test)\n",
    "from sklearn.metrics import classification_report\n",
    "print(\"The Accuracy is:\")\n",
    "print(rfc.score(X_test,y_test))\n",
    "print(classification_report(y_test, pred))"
   ]
  },
  {
   "cell_type": "code",
   "execution_count": 112,
   "metadata": {},
   "outputs": [
    {
     "name": "stdout",
     "output_type": "stream",
     "text": [
      "Logistic Regression model\n"
     ]
    },
    {
     "name": "stderr",
     "output_type": "stream",
     "text": [
      "c:\\Users\\91797\\anaconda3\\lib\\site-packages\\sklearn\\linear_model\\_logistic.py:444: ConvergenceWarning: lbfgs failed to converge (status=1):\n",
      "STOP: TOTAL NO. of ITERATIONS REACHED LIMIT.\n",
      "\n",
      "Increase the number of iterations (max_iter) or scale the data as shown in:\n",
      "    https://scikit-learn.org/stable/modules/preprocessing.html\n",
      "Please also refer to the documentation for alternative solver options:\n",
      "    https://scikit-learn.org/stable/modules/linear_model.html#logistic-regression\n",
      "  n_iter_i = _check_optimize_result(\n"
     ]
    },
    {
     "name": "stdout",
     "output_type": "stream",
     "text": [
      "The Accuracy is:\n",
      "0.9321303528144358\n",
      "              precision    recall  f1-score   support\n",
      "\n",
      "         DoS       0.96      0.93      0.94     16132\n",
      "      Normal       0.96      0.96      0.96     23058\n",
      "       Probe       0.91      0.87      0.89      4172\n",
      "         R2L       0.55      0.71      0.62      1147\n",
      "         U2R       0.14      0.96      0.25        47\n",
      "\n",
      "    accuracy                           0.93     44556\n",
      "   macro avg       0.70      0.88      0.73     44556\n",
      "weighted avg       0.94      0.93      0.94     44556\n",
      "\n"
     ]
    }
   ],
   "source": [
    "from sklearn.linear_model import LogisticRegression\n",
    "\n",
    "\n",
    "print(\"Logistic Regression model\")\n",
    "logreg = LogisticRegression()\n",
    "logreg.fit(X_resampled, y_resampled)\n",
    "y_pred = logreg.predict(X_test)\n",
    "\n",
    "print(\"The Accuracy is:\")\n",
    "accuracy = accuracy_score(y_test, y_pred)\n",
    "print(accuracy)\n",
    "print(classification_report(y_test,y_pred))"
   ]
  },
  {
   "cell_type": "code",
   "execution_count": 113,
   "metadata": {},
   "outputs": [
    {
     "name": "stdout",
     "output_type": "stream",
     "text": [
      "SVM model\n",
      "The Accuracy is:\n",
      "0.9822695035460993\n",
      "              precision    recall  f1-score   support\n",
      "\n",
      "         DoS       0.99      0.99      0.99     16132\n",
      "      Normal       1.00      0.98      0.99     23058\n",
      "       Probe       0.98      0.96      0.97      4172\n",
      "         R2L       0.76      0.93      0.84      1147\n",
      "         U2R       0.27      0.91      0.42        47\n",
      "\n",
      "    accuracy                           0.98     44556\n",
      "   macro avg       0.80      0.96      0.84     44556\n",
      "weighted avg       0.99      0.98      0.98     44556\n",
      "\n"
     ]
    }
   ],
   "source": [
    "from sklearn.svm import SVC\n",
    "\n",
    "# Create an SVM model\n",
    "\n",
    "print(\"SVM model\")\n",
    "svm = SVC()\n",
    "\n",
    "svm.fit(X_resampled, y_resampled)\n",
    "\n",
    "\n",
    "y_pred = svm.predict(X_test)\n",
    "\n",
    "\n",
    "print(\"The Accuracy is:\")\n",
    "accuracy = accuracy_score(y_test, y_pred)\n",
    "print(accuracy)\n",
    "print(classification_report(y_test, y_pred));"
   ]
  },
  {
   "cell_type": "code",
   "execution_count": 114,
   "metadata": {},
   "outputs": [
    {
     "name": "stdout",
     "output_type": "stream",
     "text": [
      "KNN model:\n",
      "0.99358111141036\n",
      "              precision    recall  f1-score   support\n",
      "\n",
      "         DoS       1.00      1.00      1.00     16132\n",
      "      Normal       1.00      0.99      1.00     23058\n",
      "       Probe       0.99      0.98      0.99      4172\n",
      "         R2L       0.90      0.96      0.93      1147\n",
      "         U2R       0.56      0.81      0.66        47\n",
      "\n",
      "    accuracy                           0.99     44556\n",
      "   macro avg       0.89      0.95      0.91     44556\n",
      "weighted avg       0.99      0.99      0.99     44556\n",
      "\n"
     ]
    }
   ],
   "source": [
    "from sklearn.neighbors import KNeighborsClassifier\n",
    "\n",
    "# Create a KNN model\n",
    "\n",
    "print(\"KNN model:\")\n",
    "knn = KNeighborsClassifier(n_neighbors=5)\n",
    "\n",
    "# Fit the model to the training data\n",
    "knn.fit(X_resampled, y_resampled)\n",
    "\n",
    "# Predict on test data\n",
    "y_pred = knn.predict(X_test)\n",
    "\n",
    "# Evaluate the model\n",
    "accuracy = accuracy_score(y_test, y_pred)\n",
    "print(accuracy)\n",
    "print(classification_report(y_test, y_pred));"
   ]
  },
  {
   "cell_type": "code",
   "execution_count": 115,
   "metadata": {},
   "outputs": [
    {
     "name": "stdout",
     "output_type": "stream",
     "text": [
      "Naive Bayes model:\n",
      "0.786022084567735\n",
      "              precision    recall  f1-score   support\n",
      "\n",
      "         DoS       0.88      0.84      0.86     16132\n",
      "      Normal       0.89      0.78      0.83     23058\n",
      "       Probe       0.43      0.66      0.52      4172\n",
      "         R2L       0.32      0.61      0.42      1147\n",
      "         U2R       0.11      0.72      0.19        47\n",
      "\n",
      "    accuracy                           0.79     44556\n",
      "   macro avg       0.52      0.72      0.56     44556\n",
      "weighted avg       0.83      0.79      0.80     44556\n",
      "\n"
     ]
    }
   ],
   "source": [
    "from sklearn.naive_bayes import GaussianNB\n",
    "\n",
    "# Create a Naive Bayes model\n",
    "print(\"Naive Bayes model:\")\n",
    "nb = GaussianNB()\n",
    "\n",
    "# Fit the model to the training data\n",
    "nb.fit(X_resampled, y_resampled)\n",
    "\n",
    "# Predict on test data\n",
    "y_pred = nb.predict(X_test)\n",
    "\n",
    "# Evaluate the model\n",
    "accuracy = accuracy_score(y_test, y_pred)\n",
    "print(accuracy)\n",
    "print(classification_report(y_test, y_pred));"
   ]
  },
  {
   "cell_type": "code",
   "execution_count": 116,
   "metadata": {},
   "outputs": [
    {
     "name": "stdout",
     "output_type": "stream",
     "text": [
      "Extra trees Model\n",
      "0.995870365382889\n",
      "              precision    recall  f1-score   support\n",
      "\n",
      "         DoS       1.00      1.00      1.00     16132\n",
      "      Normal       1.00      1.00      1.00     23058\n",
      "       Probe       0.99      0.99      0.99      4172\n",
      "         R2L       0.95      0.96      0.95      1147\n",
      "         U2R       0.65      0.74      0.69        47\n",
      "\n",
      "    accuracy                           1.00     44556\n",
      "   macro avg       0.92      0.94      0.93     44556\n",
      "weighted avg       1.00      1.00      1.00     44556\n",
      "\n"
     ]
    }
   ],
   "source": [
    "from sklearn.ensemble import ExtraTreesClassifier\n",
    "\n",
    "# Create an Extra Trees model\n",
    "print(\"Extra trees Model\")\n",
    "et = ExtraTreesClassifier()\n",
    "\n",
    "# Fit the model to the training data\n",
    "et.fit(X_resampled, y_resampled)\n",
    "\n",
    "# Predict on test data\n",
    "y_pred = et.predict(X_test)\n",
    "\n",
    "# Evaluate the model\n",
    "accuracy = accuracy_score(y_test, y_pred)\n",
    "print(accuracy)\n",
    "print(classification_report(y_test, y_pred));"
   ]
  },
  {
   "cell_type": "code",
   "execution_count": 117,
   "metadata": {},
   "outputs": [
    {
     "name": "stdout",
     "output_type": "stream",
     "text": [
      " MLP Classifier\n"
     ]
    }
   ],
   "source": [
    "from sklearn.neural_network import MLPClassifier\n",
    "\n",
    "# Create an MLP model\n",
    "mlp = MLPClassifier()\n",
    "print(\" MLP Classifier\")\n",
    "# Fit the model to the training data\n",
    "mlp.fit(X_resampled, y_resampled)\n",
    "\n",
    "# Predict on test data\n",
    "y_pred = mlp.predict(X_test)\n",
    "\n",
    "# Evaluate the model\n",
    "accuracy = accuracy_score(y_test, y_pred)\n",
    "print(accuracy)\n",
    "print(classification_report(y_test, y_pred));\n"
   ]
  },
  {
   "cell_type": "code",
   "execution_count": null,
   "metadata": {},
   "outputs": [],
   "source": [
    "# from sklearn.linear_model import LogisticRegression\n",
    "# from sklearn.ensemble import StackingClassifier\n",
    "# from sklearn.tree import DecisionTreeClassifier\n",
    "# from sklearn.svm import SVC\n",
    "\n",
    "# # Create base estimators (Decision Tree, SVM)\n",
    "# print(\"Base Estimators Using DT,SVM\")\n",
    "# base_estimators = [\n",
    "#     ('dt', DecisionTreeClassifier()),\n",
    "#     ('svm', SVC())\n",
    "# ]\n",
    "\n",
    "# # Create a meta-classifier (Logistic Regression)\n",
    "# meta_classifier = LogisticRegression()\n",
    "\n",
    "# # Create a Stacking model\n",
    "# stacking = StackingClassifier(estimators=base_estimators, final_estimator=meta_classifier)\n",
    "\n",
    "# # Fit the model to the training data\n",
    "# stacking.fit(X_resampled, y_resampled)\n",
    "\n",
    "# # Predict on test data\n",
    "# y_pred = stacking.predict(X_test)\n",
    "\n",
    "# # Evaluate the model\n",
    "# accuracy = accuracy_score(y_test, y_pred)\n",
    "# print(accuracy)\n",
    "# print(classification_report(y_test, y_pred));"
   ]
  },
  {
   "cell_type": "code",
   "execution_count": null,
   "metadata": {},
   "outputs": [],
   "source": [
    "\n",
    "from sklearn.ensemble import VotingClassifier\n",
    "ensemble = VotingClassifier(estimators=[('knn', knn),('et',et),('svm',svm)], voting='hard')\n",
    "ensemble.fit(X_resampled, y_resampled)\n",
    "pred = ensemble.predict(X_test)\n",
    "from sklearn.metrics import classification_report\n",
    "print(classification_report(y_test, pred))\n",
    "print(\"The Accuracy is:\")\n",
    "print(ensemble.score(X_test,y_test))"
   ]
  },
  {
   "cell_type": "markdown",
   "metadata": {},
   "source": [
    "### All Codes Using GAN"
   ]
  },
  {
   "cell_type": "code",
   "execution_count": null,
   "metadata": {},
   "outputs": [],
   "source": [
    "# Import necessary libraries\n",
    "import numpy as np\n",
    "from sklearn.model_selection import train_test_split\n",
    "from keras.models import Sequential\n",
    "from keras.layers import Dense\n",
    "from keras.optimizers import Adam\n",
    "from keras.layers import LeakyReLU\n",
    "\n",
    "\n",
    "\n",
    "n_features = X_train.shape[1]\n",
    "\n",
    "# Define the classes to oversample\n",
    "classes_to_oversample = ['Probe', 'R2L', 'U2R']\n",
    "epochs = 100\n",
    "batch_size = 32\n",
    "\n",
    "# Create a GAN for each class\n",
    "gans = {}\n",
    "for class_label in classes_to_oversample:\n",
    "    # Separate the current class\n",
    "    X_train_class = X_train[y_train==class_label]\n",
    "    \n",
    "    # Create the generator\n",
    "    generator = Sequential()\n",
    "    generator.add(Dense(units=32, input_dim=n_features))\n",
    "    generator.add(LeakyReLU(0.2))\n",
    "    generator.add(Dense(units=n_features, activation='tanh'))\n",
    "    \n",
    "    # Create the discriminator\n",
    "    discriminator = Sequential()\n",
    "    discriminator.add(Dense(units=32, input_dim=n_features))\n",
    "    discriminator.add(LeakyReLU(0.2))\n",
    "    discriminator.add(Dense(units=1, activation='sigmoid'))\n",
    "    discriminator.compile(loss='binary_crossentropy', optimizer=Adam())\n",
    "    \n",
    "    # Create the GAN\n",
    "    discriminator.trainable = False\n",
    "    gan = Sequential([generator, discriminator])\n",
    "    gan.compile(loss='binary_crossentropy', optimizer=Adam())\n",
    "    \n",
    "    gans[class_label] = (generator, discriminator, gan)\n",
    "\n",
    "# Train the GANs\n",
    "for epoch in range(epochs):\n",
    "    for class_label, (generator, discriminator, gan) in gans.items():\n",
    "        # Generate fake instances\n",
    "        noise = np.random.normal(0, 1, (batch_size, n_features))\n",
    "        generated_instances = generator.predict(noise)\n",
    "        \n",
    "        # Get a random set of real instances\n",
    "        X_train_class = X_train[y_train==class_label]\n",
    "        real_instances = X_train_class[np.random.randint(0, X_train_class.shape[0], batch_size)]\n",
    "        \n",
    "        # Train the discriminator\n",
    "        X = np.concatenate([real_instances, generated_instances])\n",
    "        y_dis = np.zeros(2*batch_size)\n",
    "        y_dis[:batch_size] = 1\n",
    "        discriminator.trainable = True\n",
    "        discriminator.train_on_batch(X, y_dis)\n",
    "        \n",
    "        # Train the generator\n",
    "        noise = np.random.normal(0, 1, (batch_size, n_features))\n",
    "        y_gen = np.ones(batch_size)\n",
    "        discriminator.trainable = False\n",
    "        gan.train_on_batch(noise, y_gen)\n",
    "\n",
    "# Use the generators to create synthetic instances\n",
    "X_resampled = np.copy(X_train)\n",
    "y_resampled = np.copy(y_train)\n",
    "for class_label, (generator, _, _) in gans.items():\n",
    "    num_synthetic_samples = 10000 - np.sum(y_train==class_label)\n",
    "    if num_synthetic_samples > 0:\n",
    "        noise = np.random.normal(0, 1, (num_synthetic_samples, n_features))\n",
    "        synthetic_instances = generator.predict(noise)\n",
    "        \n",
    "        # Combine the synthetic instances with the original data\n",
    "        X_resampled = np.concatenate([X_resampled, synthetic_instances])\n",
    "        y_resampled = np.concatenate([y_resampled, [class_label]*num_synthetic_samples])\n",
    "\n",
    "# Now, X_resampled and y_resampled are the resampled features and labels respectively\n"
   ]
  },
  {
   "cell_type": "code",
   "execution_count": null,
   "metadata": {},
   "outputs": [],
   "source": [
    "unique_values, counts = np.unique(y_resampled, return_counts=True)\n",
    "\n",
    "# Plot the bar graph\n",
    "plt.bar(unique_values, counts, color='blue')\n",
    "plt.title('Bar Plot of y_train')\n",
    "plt.xlabel('Unique Values')\n",
    "plt.ylabel('Counts')\n",
    "plt.show()  "
   ]
  },
  {
   "cell_type": "code",
   "execution_count": null,
   "metadata": {},
   "outputs": [],
   "source": [
    "\n",
    "#Decision Tree Classifier\n",
    "print(\"Decision Tree Classifier\")\n",
    "from sklearn.tree import DecisionTreeClassifier\n",
    "from sklearn.metrics import accuracy_score\n",
    "from sklearn.metrics import classification_report\n",
    "dtree = DecisionTreeClassifier();\n",
    "dtree = dtree.fit(X_resampled, y_resampled)\n",
    "pred = dtree.predict(X_test)\n",
    "print(\"The Accuracy is:\")\n",
    "print(accuracy_score(pred,y_test))\n",
    "print(classification_report(y_test, pred))\n"
   ]
  },
  {
   "cell_type": "code",
   "execution_count": null,
   "metadata": {},
   "outputs": [],
   "source": [
    "#Random Forest Classifier\n",
    "print(\"Random Forest Classifier\")\n",
    "from sklearn.ensemble import RandomForestClassifier\n",
    "rfc = RandomForestClassifier(n_estimators=400, random_state=42)\n",
    "rfc = rfc.fit(X_resampled, y_resampled)\n",
    "pred = rfc.predict(X_test)\n",
    "from sklearn.metrics import classification_report\n",
    "print(\"The Accuracy is:\")\n",
    "print(rfc.score(X_test,y_test))\n",
    "print(classification_report(y_test, pred))"
   ]
  },
  {
   "cell_type": "code",
   "execution_count": null,
   "metadata": {},
   "outputs": [],
   "source": [
    "from sklearn.linear_model import LogisticRegression\n",
    "\n",
    "\n",
    "print(\"Logistic Regression model\")\n",
    "logreg = LogisticRegression()\n",
    "logreg.fit(X_resampled, y_resampled)\n",
    "y_pred = logreg.predict(X_test)\n",
    "\n",
    "print(\"The Accuracy is:\")\n",
    "accuracy = accuracy_score(y_test, y_pred)\n",
    "print(accuracy)\n",
    "print(classification_report(y_test,y_pred))\n"
   ]
  },
  {
   "cell_type": "code",
   "execution_count": null,
   "metadata": {},
   "outputs": [],
   "source": [
    "from sklearn.svm import SVC\n",
    "\n",
    "# Create an SVM model\n",
    "\n",
    "print(\"SVM model\")\n",
    "svm = SVC()\n",
    "\n",
    "svm.fit(X_resampled, y_resampled)\n",
    "\n",
    "\n",
    "y_pred = svm.predict(X_test)\n",
    "\n",
    "\n",
    "print(\"The Accuracy is:\")\n",
    "accuracy = accuracy_score(y_test, y_pred)\n",
    "print(accuracy)\n",
    "print(classification_report(y_test, y_pred));"
   ]
  },
  {
   "cell_type": "code",
   "execution_count": null,
   "metadata": {},
   "outputs": [],
   "source": [
    "from sklearn.neighbors import KNeighborsClassifier\n",
    "\n",
    "# Create a KNN model\n",
    "\n",
    "print(\"KNN model:\")\n",
    "knn = KNeighborsClassifier(n_neighbors=5)\n",
    "\n",
    "# Fit the model to the training data\n",
    "knn.fit(X_resampled, y_resampled)\n",
    "\n",
    "# Predict on test data\n",
    "y_pred = knn.predict(X_test)\n",
    "\n",
    "# Evaluate the model\n",
    "accuracy = accuracy_score(y_test, y_pred)\n",
    "print(accuracy)\n",
    "print(classification_report(y_test, y_pred));"
   ]
  },
  {
   "cell_type": "code",
   "execution_count": null,
   "metadata": {},
   "outputs": [],
   "source": [
    "from sklearn.naive_bayes import GaussianNB\n",
    "\n",
    "# Create a Naive Bayes model\n",
    "print(\"Naive Bayes model:\")\n",
    "nb = GaussianNB()\n",
    "\n",
    "# Fit the model to the training data\n",
    "nb.fit(X_resampled, y_resampled)\n",
    "\n",
    "# Predict on test data\n",
    "y_pred = nb.predict(X_test)\n",
    "\n",
    "# Evaluate the model\n",
    "accuracy = accuracy_score(y_test, y_pred)\n",
    "print(accuracy)\n",
    "print(classification_report(y_test, y_pred));"
   ]
  },
  {
   "cell_type": "code",
   "execution_count": null,
   "metadata": {},
   "outputs": [],
   "source": [
    "from sklearn.naive_bayes import GaussianNB\n",
    "\n",
    "# Create a Naive Bayes model\n",
    "print(\"Naive Bayes model:\")\n",
    "nb = GaussianNB()\n",
    "\n",
    "# Fit the model to the training data\n",
    "nb.fit(X_resampled, y_resampled)\n",
    "\n",
    "# Predict on test data\n",
    "y_pred = nb.predict(X_test)\n",
    "\n",
    "# Evaluate the model\n",
    "accuracy = accuracy_score(y_test, y_pred)\n",
    "print(accuracy)\n",
    "print(classification_report(y_test, y_pred));"
   ]
  },
  {
   "cell_type": "code",
   "execution_count": null,
   "metadata": {},
   "outputs": [],
   "source": [
    "from sklearn.ensemble import ExtraTreesClassifier\n",
    "\n",
    "# Create an Extra Trees model\n",
    "print(\"Extra trees Model\")\n",
    "et = ExtraTreesClassifier()\n",
    "\n",
    "# Fit the model to the training data\n",
    "et.fit(X_resampled, y_resampled)\n",
    "\n",
    "# Predict on test data\n",
    "y_pred = et.predict(X_test)\n",
    "\n",
    "# Evaluate the model\n",
    "accuracy = accuracy_score(y_test, y_pred)\n",
    "print(accuracy)\n",
    "print(classification_report(y_test, y_pred));"
   ]
  },
  {
   "cell_type": "code",
   "execution_count": null,
   "metadata": {},
   "outputs": [],
   "source": [
    "from sklearn.neural_network import MLPClassifier\n",
    "\n",
    "# Create an MLP model\n",
    "mlp = MLPClassifier()\n",
    "print(\" MLP Classifier\")\n",
    "# Fit the model to the training data\n",
    "mlp.fit(X_resampled, y_resampled)\n",
    "\n",
    "# Predict on test data\n",
    "y_pred = mlp.predict(X_test)\n",
    "\n",
    "# Evaluate the model\n",
    "accuracy = accuracy_score(y_test, y_pred)\n",
    "print(accuracy)\n",
    "print(classification_report(y_test, y_pred));\n"
   ]
  },
  {
   "cell_type": "code",
   "execution_count": null,
   "metadata": {},
   "outputs": [],
   "source": [
    "from sklearn.linear_model import LogisticRegression\n",
    "from sklearn.ensemble import StackingClassifier\n",
    "from sklearn.tree import DecisionTreeClassifier\n",
    "from sklearn.svm import SVC\n",
    "\n",
    "# Create base estimators (Decision Tree, SVM)\n",
    "print(\"Base Estimators Using DT,SVM\")\n",
    "base_estimators = [\n",
    "    ('dt', DecisionTreeClassifier()),\n",
    "    ('svm', SVC())\n",
    "]\n",
    "\n",
    "# Create a meta-classifier (Logistic Regression)\n",
    "meta_classifier = LogisticRegression()\n",
    "\n",
    "# Create a Stacking model\n",
    "stacking = StackingClassifier(estimators=base_estimators, final_estimator=meta_classifier)\n",
    "\n",
    "# Fit the model to the training data\n",
    "stacking.fit(X_resampled, y_resampled)\n",
    "\n",
    "# Predict on test data\n",
    "y_pred = stacking.predict(X_test)\n",
    "\n",
    "# Evaluate the model\n",
    "accuracy = accuracy_score(y_test, y_pred)\n",
    "print(accuracy)\n",
    "print(classification_report(y_test, y_pred));"
   ]
  },
  {
   "cell_type": "code",
   "execution_count": null,
   "metadata": {},
   "outputs": [],
   "source": [
    "\n",
    "from sklearn.ensemble import VotingClassifier\n",
    "ensemble = VotingClassifier(estimators=[('knn', knn),('et',et),('svm',svm)], voting='hard')\n",
    "ensemble.fit(X_resampled, y_resampled)\n",
    "pred = ensemble.predict(X_test)\n",
    "from sklearn.metrics import classification_report\n",
    "print(classification_report(y_test, pred))\n",
    "print(\"The Accuracy is:\")\n",
    "print(ensemble.score(X_test,y_test))"
   ]
  }
 ],
 "metadata": {
  "kernelspec": {
   "display_name": "base",
   "language": "python",
   "name": "python3"
  },
  "language_info": {
   "codemirror_mode": {
    "name": "ipython",
    "version": 3
   },
   "file_extension": ".py",
   "mimetype": "text/x-python",
   "name": "python",
   "nbconvert_exporter": "python",
   "pygments_lexer": "ipython3",
   "version": "3.9.12"
  }
 },
 "nbformat": 4,
 "nbformat_minor": 2
}
